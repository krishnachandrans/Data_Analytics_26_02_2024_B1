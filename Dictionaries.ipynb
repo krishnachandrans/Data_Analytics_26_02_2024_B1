{
  "nbformat": 4,
  "nbformat_minor": 0,
  "metadata": {
    "colab": {
      "provenance": []
    },
    "kernelspec": {
      "name": "python3",
      "display_name": "Python 3"
    },
    "language_info": {
      "name": "python"
    }
  },
  "cells": [
    {
      "cell_type": "markdown",
      "source": [
        "Welcome back!\n",
        "\n",
        "You can execute the cells using shift + enter\n",
        "\n",
        "Now, lets understand Dictonary"
      ],
      "metadata": {
        "id": "NecARxHo_cSm"
      }
    },
    {
      "cell_type": "markdown",
      "source": [
        "### Dictionary\n",
        "Dictionaries are used to store data values in key:value pairs.\n",
        "\n",
        "A dictionary is a collection which is ordered*, changeable and do not allow duplicates.\n",
        "\n",
        "As of Python version 3.7, dictionaries are ordered. In Python 3.6 and earlier, dictionaries are unordered.\n",
        "\n",
        "Dictionaries are written with curly brackets, and have keys and values:"
      ],
      "metadata": {
        "id": "X5bBThO-_U11"
      }
    },
    {
      "cell_type": "markdown",
      "source": [
        "Lets create an empty dictonary"
      ],
      "metadata": {
        "id": "jsVm5rfV_qmJ"
      }
    },
    {
      "cell_type": "code",
      "source": [
        "d = {}\n",
        "type(d)"
      ],
      "metadata": {
        "id": "XjD2p-Jj_Vnc"
      },
      "execution_count": null,
      "outputs": []
    },
    {
      "cell_type": "code",
      "source": [
        "dir(d)"
      ],
      "metadata": {
        "id": "JNSO5Omr_tQ6"
      },
      "execution_count": null,
      "outputs": []
    },
    {
      "cell_type": "code",
      "source": [
        "d = {\n",
        "  \"brand\": \"Kia\",\n",
        "  \"model\": \"Seltos\",\n",
        "  \"year\": 2021\n",
        "}"
      ],
      "metadata": {
        "id": "JLbjP9_g_wJ8"
      },
      "execution_count": null,
      "outputs": []
    },
    {
      "cell_type": "code",
      "source": [
        "# used for copy the dictionary\n",
        "d1 = d.copy()\n",
        "d1"
      ],
      "metadata": {
        "id": "RvXmnR6__0WI"
      },
      "execution_count": null,
      "outputs": []
    },
    {
      "cell_type": "code",
      "source": [
        "# The clear() method empties the Dictionary.\n",
        "#The Dictionary still remains, but it has no content.\n",
        "d1.clear()\n",
        "d1"
      ],
      "metadata": {
        "id": "s3AdF7sw_2se"
      },
      "execution_count": null,
      "outputs": []
    },
    {
      "cell_type": "markdown",
      "source": [
        "The fromkeys() method returns a dictionary with the specified keys and the specified value."
      ],
      "metadata": {
        "id": "X6AKhC6R_8vP"
      }
    },
    {
      "cell_type": "code",
      "source": [
        "x = ('key1', 'key2', 'key3')\n",
        "y = 0\n",
        "\n",
        "thisdict = dict.fromkeys(x, y)\n",
        "thisdict"
      ],
      "metadata": {
        "id": "San34ZMu_5n2"
      },
      "execution_count": null,
      "outputs": []
    },
    {
      "cell_type": "code",
      "source": [
        "# get() is used for gives you the value of the input key\n",
        "d.get('model')"
      ],
      "metadata": {
        "id": "ZMWDa5BtAIQf"
      },
      "execution_count": null,
      "outputs": []
    },
    {
      "cell_type": "markdown",
      "source": [
        "* dictonary.items() returns a view object that displays a list of a given dictionary’s (key, value) tuple pair."
      ],
      "metadata": {
        "id": "eGpiieYxAmgD"
      }
    },
    {
      "cell_type": "code",
      "source": [
        "# items()\n",
        "d.items()"
      ],
      "metadata": {
        "id": "Tc7rKXd6Aesh"
      },
      "execution_count": null,
      "outputs": []
    },
    {
      "cell_type": "code",
      "source": [
        "# return the keys of the dictionary\n",
        "d.keys()"
      ],
      "metadata": {
        "id": "KWJmcXCkAxeX"
      },
      "execution_count": null,
      "outputs": []
    },
    {
      "cell_type": "code",
      "source": [
        "# used for pop the values of the key which is passed\n",
        "\n",
        "d5 = d.pop('year')\n",
        "d5\n"
      ],
      "metadata": {
        "id": "aubDmIamA0--"
      },
      "execution_count": null,
      "outputs": []
    },
    {
      "cell_type": "code",
      "source": [
        "print(d)"
      ],
      "metadata": {
        "id": "GBz8jcOFA3-1"
      },
      "execution_count": null,
      "outputs": []
    },
    {
      "cell_type": "code",
      "source": [
        "# The popitem() method removes the item that was last inserted into the dictionary\n",
        "d.popitem()"
      ],
      "metadata": {
        "id": "D43Y7XJGBEjf"
      },
      "execution_count": null,
      "outputs": []
    },
    {
      "cell_type": "code",
      "source": [
        "print(d)"
      ],
      "metadata": {
        "id": "8wxfHut4BKgR"
      },
      "execution_count": null,
      "outputs": []
    },
    {
      "cell_type": "markdown",
      "source": [
        "* setdefault() returns the value of a key (if the key is in dictionary). Else, it inserts a key with the default value to the dictionary."
      ],
      "metadata": {
        "id": "R1tkYu_aBVqu"
      }
    },
    {
      "cell_type": "code",
      "source": [
        "d0 = {'a': 97, 'b': 98, 'c': 99, 'd': 100}\n",
        "# space key added using setdefault() method\n",
        "d0.setdefault(' ', 32)"
      ],
      "metadata": {
        "id": "ensIFd0cBMTn"
      },
      "execution_count": null,
      "outputs": []
    },
    {
      "cell_type": "code",
      "source": [
        "print(d0)"
      ],
      "metadata": {
        "id": "KYTyfoBEBbLk"
      },
      "execution_count": null,
      "outputs": []
    },
    {
      "cell_type": "markdown",
      "source": [
        "* The update() method inserts the specified items to the dictionary.\n",
        "\n",
        "* The specified items can be a dictionary, or an iterable object with key value pairs."
      ],
      "metadata": {
        "id": "gwpXsmIhBkjD"
      }
    },
    {
      "cell_type": "code",
      "source": [
        "d0.update({'a':22})\n",
        "d0"
      ],
      "metadata": {
        "id": "PJRL_RsvBfjO"
      },
      "execution_count": null,
      "outputs": []
    },
    {
      "cell_type": "code",
      "source": [
        "# returns the value of the dictionary\n",
        "d0.values()"
      ],
      "metadata": {
        "id": "PFPqF0wjBowO"
      },
      "execution_count": null,
      "outputs": []
    }
  ]
}